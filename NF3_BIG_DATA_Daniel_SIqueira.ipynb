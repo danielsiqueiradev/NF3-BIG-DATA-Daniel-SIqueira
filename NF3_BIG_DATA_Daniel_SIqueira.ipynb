{
  "nbformat": 4,
  "nbformat_minor": 0,
  "metadata": {
    "colab": {
      "provenance": [],
      "toc_visible": true,
      "authorship_tag": "ABX9TyPfhUB+pDX+RjLE5j8U0dkF",
      "include_colab_link": true
    },
    "kernelspec": {
      "name": "python3",
      "display_name": "Python 3"
    },
    "language_info": {
      "name": "python"
    }
  },
  "cells": [
    {
      "cell_type": "markdown",
      "metadata": {
        "id": "view-in-github",
        "colab_type": "text"
      },
      "source": [
        "<a href=\"https://colab.research.google.com/github/danielsiqueiradev/analise_de_dados/blob/main/NF3_BIG_DATA_Daniel_SIqueira.ipynb\" target=\"_parent\"><img src=\"https://colab.research.google.com/assets/colab-badge.svg\" alt=\"Open In Colab\"/></a>"
      ]
    },
    {
      "cell_type": "code",
      "source": [
        "#TCC\n",
        "#Exercício 1.a)\n",
        "\n",
        "import pandas as pd\n",
        "\n",
        "dados = pd.read_csv('world_alcohol.csv', sep=',')\n",
        "\n",
        "dados['Beverage Types'].value_counts()\n",
        "\n"
      ],
      "metadata": {
        "colab": {
          "base_uri": "https://localhost:8080/"
        },
        "id": "lKl8bWj2IRwV",
        "outputId": "a9e50977-103c-49cf-ee00-18056da9c16a"
      },
      "execution_count": 102,
      "outputs": [
        {
          "output_type": "execute_result",
          "data": {
            "text/plain": [
              "Other      28\n",
              "Wine       27\n",
              "Beer       24\n",
              "Spirits    21\n",
              "Name: Beverage Types, dtype: int64"
            ]
          },
          "metadata": {},
          "execution_count": 102
        }
      ]
    }
  ]
}