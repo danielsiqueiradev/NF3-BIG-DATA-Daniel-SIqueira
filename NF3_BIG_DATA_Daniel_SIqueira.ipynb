{
  "nbformat": 4,
  "nbformat_minor": 0,
  "metadata": {
    "colab": {
      "provenance": [],
      "toc_visible": true,
      "authorship_tag": "ABX9TyMCSToFIdZuX52xKGTEqkVG",
      "include_colab_link": true
    },
    "kernelspec": {
      "name": "python3",
      "display_name": "Python 3"
    },
    "language_info": {
      "name": "python"
    }
  },
  "cells": [
    {
      "cell_type": "markdown",
      "metadata": {
        "id": "view-in-github",
        "colab_type": "text"
      },
      "source": [
        "<a href=\"https://colab.research.google.com/github/danielsiqueiradev/analise_de_dados/blob/main/NF3_BIG_DATA_Daniel_SIqueira.ipynb\" target=\"_parent\"><img src=\"https://colab.research.google.com/assets/colab-badge.svg\" alt=\"Open In Colab\"/></a>"
      ]
    },
    {
      "cell_type": "code",
      "source": [
        "#Tabela base importada do .csv\n",
        "import pandas as pd\n",
        "\n",
        "dados = pd.read_csv('world_alcohol.csv', sep=',')\n",
        "dados\n",
        "\n"
      ],
      "metadata": {
        "colab": {
          "base_uri": "https://localhost:8080/",
          "height": 424
        },
        "id": "lKl8bWj2IRwV",
        "outputId": "3942b93f-175d-4f0a-fe08-b2a39e019566"
      },
      "execution_count": 171,
      "outputs": [
        {
          "output_type": "execute_result",
          "data": {
            "text/plain": [
              "    Year       WHO region                                Country  \\\n",
              "0   1986  Western Pacific                               Viet Nam   \n",
              "1   1986         Americas                                Uruguay   \n",
              "2   1985           Africa                           Cte d'Ivoire   \n",
              "3   1986         Americas                               Colombia   \n",
              "4   1987         Americas                  Saint Kitts and Nevis   \n",
              "..   ...              ...                                    ...   \n",
              "95  1984           Africa                                  Niger   \n",
              "96  1985           Europe                             Luxembourg   \n",
              "97  1984  South-East Asia                              Indonesia   \n",
              "98  1984           Africa                      Equatorial Guinea   \n",
              "99  1985  South-East Asia  Democratic People's Republic of Korea   \n",
              "\n",
              "   Beverage Types  Display Value  \n",
              "0            Wine           0.00  \n",
              "1           Other           0.50  \n",
              "2            Wine           1.62  \n",
              "3            Beer           4.27  \n",
              "4            Beer           1.98  \n",
              "..            ...            ...  \n",
              "95          Other           0.00  \n",
              "96           Wine           7.38  \n",
              "97           Wine           0.00  \n",
              "98           Wine           0.00  \n",
              "99           Wine           0.00  \n",
              "\n",
              "[100 rows x 5 columns]"
            ],
            "text/html": [
              "\n",
              "  <div id=\"df-df2930ef-1c7e-4cc7-8611-7cae21ae19fd\">\n",
              "    <div class=\"colab-df-container\">\n",
              "      <div>\n",
              "<style scoped>\n",
              "    .dataframe tbody tr th:only-of-type {\n",
              "        vertical-align: middle;\n",
              "    }\n",
              "\n",
              "    .dataframe tbody tr th {\n",
              "        vertical-align: top;\n",
              "    }\n",
              "\n",
              "    .dataframe thead th {\n",
              "        text-align: right;\n",
              "    }\n",
              "</style>\n",
              "<table border=\"1\" class=\"dataframe\">\n",
              "  <thead>\n",
              "    <tr style=\"text-align: right;\">\n",
              "      <th></th>\n",
              "      <th>Year</th>\n",
              "      <th>WHO region</th>\n",
              "      <th>Country</th>\n",
              "      <th>Beverage Types</th>\n",
              "      <th>Display Value</th>\n",
              "    </tr>\n",
              "  </thead>\n",
              "  <tbody>\n",
              "    <tr>\n",
              "      <th>0</th>\n",
              "      <td>1986</td>\n",
              "      <td>Western Pacific</td>\n",
              "      <td>Viet Nam</td>\n",
              "      <td>Wine</td>\n",
              "      <td>0.00</td>\n",
              "    </tr>\n",
              "    <tr>\n",
              "      <th>1</th>\n",
              "      <td>1986</td>\n",
              "      <td>Americas</td>\n",
              "      <td>Uruguay</td>\n",
              "      <td>Other</td>\n",
              "      <td>0.50</td>\n",
              "    </tr>\n",
              "    <tr>\n",
              "      <th>2</th>\n",
              "      <td>1985</td>\n",
              "      <td>Africa</td>\n",
              "      <td>Cte d'Ivoire</td>\n",
              "      <td>Wine</td>\n",
              "      <td>1.62</td>\n",
              "    </tr>\n",
              "    <tr>\n",
              "      <th>3</th>\n",
              "      <td>1986</td>\n",
              "      <td>Americas</td>\n",
              "      <td>Colombia</td>\n",
              "      <td>Beer</td>\n",
              "      <td>4.27</td>\n",
              "    </tr>\n",
              "    <tr>\n",
              "      <th>4</th>\n",
              "      <td>1987</td>\n",
              "      <td>Americas</td>\n",
              "      <td>Saint Kitts and Nevis</td>\n",
              "      <td>Beer</td>\n",
              "      <td>1.98</td>\n",
              "    </tr>\n",
              "    <tr>\n",
              "      <th>...</th>\n",
              "      <td>...</td>\n",
              "      <td>...</td>\n",
              "      <td>...</td>\n",
              "      <td>...</td>\n",
              "      <td>...</td>\n",
              "    </tr>\n",
              "    <tr>\n",
              "      <th>95</th>\n",
              "      <td>1984</td>\n",
              "      <td>Africa</td>\n",
              "      <td>Niger</td>\n",
              "      <td>Other</td>\n",
              "      <td>0.00</td>\n",
              "    </tr>\n",
              "    <tr>\n",
              "      <th>96</th>\n",
              "      <td>1985</td>\n",
              "      <td>Europe</td>\n",
              "      <td>Luxembourg</td>\n",
              "      <td>Wine</td>\n",
              "      <td>7.38</td>\n",
              "    </tr>\n",
              "    <tr>\n",
              "      <th>97</th>\n",
              "      <td>1984</td>\n",
              "      <td>South-East Asia</td>\n",
              "      <td>Indonesia</td>\n",
              "      <td>Wine</td>\n",
              "      <td>0.00</td>\n",
              "    </tr>\n",
              "    <tr>\n",
              "      <th>98</th>\n",
              "      <td>1984</td>\n",
              "      <td>Africa</td>\n",
              "      <td>Equatorial Guinea</td>\n",
              "      <td>Wine</td>\n",
              "      <td>0.00</td>\n",
              "    </tr>\n",
              "    <tr>\n",
              "      <th>99</th>\n",
              "      <td>1985</td>\n",
              "      <td>South-East Asia</td>\n",
              "      <td>Democratic People's Republic of Korea</td>\n",
              "      <td>Wine</td>\n",
              "      <td>0.00</td>\n",
              "    </tr>\n",
              "  </tbody>\n",
              "</table>\n",
              "<p>100 rows × 5 columns</p>\n",
              "</div>\n",
              "      <button class=\"colab-df-convert\" onclick=\"convertToInteractive('df-df2930ef-1c7e-4cc7-8611-7cae21ae19fd')\"\n",
              "              title=\"Convert this dataframe to an interactive table.\"\n",
              "              style=\"display:none;\">\n",
              "        \n",
              "  <svg xmlns=\"http://www.w3.org/2000/svg\" height=\"24px\"viewBox=\"0 0 24 24\"\n",
              "       width=\"24px\">\n",
              "    <path d=\"M0 0h24v24H0V0z\" fill=\"none\"/>\n",
              "    <path d=\"M18.56 5.44l.94 2.06.94-2.06 2.06-.94-2.06-.94-.94-2.06-.94 2.06-2.06.94zm-11 1L8.5 8.5l.94-2.06 2.06-.94-2.06-.94L8.5 2.5l-.94 2.06-2.06.94zm10 10l.94 2.06.94-2.06 2.06-.94-2.06-.94-.94-2.06-.94 2.06-2.06.94z\"/><path d=\"M17.41 7.96l-1.37-1.37c-.4-.4-.92-.59-1.43-.59-.52 0-1.04.2-1.43.59L10.3 9.45l-7.72 7.72c-.78.78-.78 2.05 0 2.83L4 21.41c.39.39.9.59 1.41.59.51 0 1.02-.2 1.41-.59l7.78-7.78 2.81-2.81c.8-.78.8-2.07 0-2.86zM5.41 20L4 18.59l7.72-7.72 1.47 1.35L5.41 20z\"/>\n",
              "  </svg>\n",
              "      </button>\n",
              "      \n",
              "  <style>\n",
              "    .colab-df-container {\n",
              "      display:flex;\n",
              "      flex-wrap:wrap;\n",
              "      gap: 12px;\n",
              "    }\n",
              "\n",
              "    .colab-df-convert {\n",
              "      background-color: #E8F0FE;\n",
              "      border: none;\n",
              "      border-radius: 50%;\n",
              "      cursor: pointer;\n",
              "      display: none;\n",
              "      fill: #1967D2;\n",
              "      height: 32px;\n",
              "      padding: 0 0 0 0;\n",
              "      width: 32px;\n",
              "    }\n",
              "\n",
              "    .colab-df-convert:hover {\n",
              "      background-color: #E2EBFA;\n",
              "      box-shadow: 0px 1px 2px rgba(60, 64, 67, 0.3), 0px 1px 3px 1px rgba(60, 64, 67, 0.15);\n",
              "      fill: #174EA6;\n",
              "    }\n",
              "\n",
              "    [theme=dark] .colab-df-convert {\n",
              "      background-color: #3B4455;\n",
              "      fill: #D2E3FC;\n",
              "    }\n",
              "\n",
              "    [theme=dark] .colab-df-convert:hover {\n",
              "      background-color: #434B5C;\n",
              "      box-shadow: 0px 1px 3px 1px rgba(0, 0, 0, 0.15);\n",
              "      filter: drop-shadow(0px 1px 2px rgba(0, 0, 0, 0.3));\n",
              "      fill: #FFFFFF;\n",
              "    }\n",
              "  </style>\n",
              "\n",
              "      <script>\n",
              "        const buttonEl =\n",
              "          document.querySelector('#df-df2930ef-1c7e-4cc7-8611-7cae21ae19fd button.colab-df-convert');\n",
              "        buttonEl.style.display =\n",
              "          google.colab.kernel.accessAllowed ? 'block' : 'none';\n",
              "\n",
              "        async function convertToInteractive(key) {\n",
              "          const element = document.querySelector('#df-df2930ef-1c7e-4cc7-8611-7cae21ae19fd');\n",
              "          const dataTable =\n",
              "            await google.colab.kernel.invokeFunction('convertToInteractive',\n",
              "                                                     [key], {});\n",
              "          if (!dataTable) return;\n",
              "\n",
              "          const docLinkHtml = 'Like what you see? Visit the ' +\n",
              "            '<a target=\"_blank\" href=https://colab.research.google.com/notebooks/data_table.ipynb>data table notebook</a>'\n",
              "            + ' to learn more about interactive tables.';\n",
              "          element.innerHTML = '';\n",
              "          dataTable['output_type'] = 'display_data';\n",
              "          await google.colab.output.renderOutput(dataTable, element);\n",
              "          const docLink = document.createElement('div');\n",
              "          docLink.innerHTML = docLinkHtml;\n",
              "          element.appendChild(docLink);\n",
              "        }\n",
              "      </script>\n",
              "    </div>\n",
              "  </div>\n",
              "  "
            ]
          },
          "metadata": {},
          "execution_count": 171
        }
      ]
    },
    {
      "cell_type": "code",
      "source": [
        "#Exercício 1.a)\n",
        "#a. Agrupe os dados por tipo de bebidas;\n",
        "\n",
        "\n",
        "import pandas as pd\n",
        "\n",
        "dados = pd.read_csv('world_alcohol.csv', sep=',')\n",
        "\n",
        "dados['Beverage Types'].value_counts()"
      ],
      "metadata": {
        "id": "otaiUdqPep-6",
        "outputId": "16bf0cd7-3f98-4ffc-c449-ba4fcf1c23a8",
        "colab": {
          "base_uri": "https://localhost:8080/"
        }
      },
      "execution_count": 187,
      "outputs": [
        {
          "output_type": "execute_result",
          "data": {
            "text/plain": [
              "Other      28\n",
              "Wine       27\n",
              "Beer       24\n",
              "Spirits    21\n",
              "Name: Beverage Types, dtype: int64"
            ]
          },
          "metadata": {},
          "execution_count": 187
        }
      ]
    },
    {
      "cell_type": "code",
      "source": [
        "#Exercício 1.b)\n",
        "#b. Agrupe os dados por Região e por Ano;\n",
        "\n",
        "# Agrupar os dados por 'WHO region' e 'Year'\n",
        "grupo = dados.groupby(['WHO region', 'Year'])\n",
        "\n",
        "# Exemplo: Imprimir o número de linhas em cada grupo\n",
        "print(grupo.size())"
      ],
      "metadata": {
        "id": "4_fVQo0Mf1I3",
        "outputId": "66925018-c799-478b-aa30-1563d3da4385",
        "colab": {
          "base_uri": "https://localhost:8080/"
        }
      },
      "execution_count": 184,
      "outputs": [
        {
          "output_type": "stream",
          "name": "stdout",
          "text": [
            "WHO region             Year\n",
            "Africa                 1984    4\n",
            "                       1985    9\n",
            "                       1986    4\n",
            "                       1987    6\n",
            "                       1989    6\n",
            "Americas               1984    2\n",
            "                       1985    1\n",
            "                       1986    6\n",
            "                       1987    5\n",
            "                       1989    5\n",
            "Eastern Mediterranean  1984    5\n",
            "                       1985    1\n",
            "                       1986    3\n",
            "                       1987    5\n",
            "                       1989    4\n",
            "Europe                 1984    4\n",
            "                       1985    6\n",
            "                       1986    6\n",
            "                       1987    3\n",
            "                       1989    3\n",
            "South-East Asia        1984    1\n",
            "                       1985    1\n",
            "                       1986    2\n",
            "Western Pacific        1984    2\n",
            "                       1985    2\n",
            "                       1986    2\n",
            "                       1987    2\n",
            "dtype: int64\n"
          ]
        }
      ]
    },
    {
      "cell_type": "code",
      "source": [
        "#Exercício 1.C)\n",
        "# Seção de Contagens: Contar a ocorrência de Regiões, de Países e a soma da coluna de valores por Bebida.\n",
        "\n",
        "# Contar a ocorrência de regiões\n",
        "contagem_regioes = dados.groupby('WHO region').size()\n",
        "\n",
        "# Contar a ocorrência de países\n",
        "contagem_paises = dados.groupby('Country').size()\n",
        "\n",
        "# Somar a coluna de valores por bebida\n",
        "soma_valores_por_bebida = dados.groupby('Beverage Types')['Display Value'].sum()\n",
        "\n",
        "# Exemplo: Imprimir os resultados\n",
        "print('Contagem de Regiões:')\n",
        "print(contagem_regioes)\n",
        "print('\\nContagem de Países:')\n",
        "print(contagem_paises)\n",
        "print('\\nSoma da coluna de valores por Bebida:')\n",
        "print(soma_valores_por_bebida)\n",
        "\n"
      ],
      "metadata": {
        "id": "eCBByXfgZz6C",
        "outputId": "9dc64d1b-583d-4517-dd5a-568f701dcb9d",
        "colab": {
          "base_uri": "https://localhost:8080/"
        }
      },
      "execution_count": 196,
      "outputs": [
        {
          "output_type": "stream",
          "name": "stdout",
          "text": [
            "Contagem de Regiões:\n",
            "WHO region\n",
            "Africa                   29\n",
            "Americas                 19\n",
            "Eastern Mediterranean    18\n",
            "Europe                   22\n",
            "South-East Asia           4\n",
            "Western Pacific           8\n",
            "dtype: int64\n",
            "\n",
            "Contagem de Países:\n",
            "Country\n",
            "Afghanistan                                             2\n",
            "Angola                                                  1\n",
            "Antigua and Barbuda                                     1\n",
            "Austria                                                 1\n",
            "Bahamas                                                 1\n",
            "                                                       ..\n",
            "Ukraine                                                 3\n",
            "United Kingdom of Great Britain and Northern Ireland    1\n",
            "Uruguay                                                 1\n",
            "Viet Nam                                                4\n",
            "Zimbabwe                                                1\n",
            "Length: 80, dtype: int64\n",
            "\n",
            "Soma da coluna de valores por Bebida:\n",
            "Beverage Types\n",
            "Beer       35.50\n",
            "Other      14.93\n",
            "Spirits    30.97\n",
            "Wine       23.39\n",
            "Name: Display Value, dtype: float64\n"
          ]
        }
      ]
    },
    {
      "cell_type": "code",
      "source": [
        "#Exercício 1.d)\n",
        "#Realize análises estatísticas da coluna dos valores: Média, Moda, Mediana, Estatística\n",
        "#Descritiva e Gráfico de comparação dos valores agrupados por tipo de bebida.\n",
        "\n",
        "import pandas as pd\n",
        "\n",
        "dados = pd.read_csv('world_alcohol.csv', sep=',')\n",
        "\n",
        "media = dados['Display Value'].mean()\n",
        "mediana = dados['Display Value'].median()\n",
        "moda = dados['Display Value'].mode()\n",
        "\n",
        "print('A média é:', media)\n",
        "print('A mediana é:', mediana)\n",
        "print('A moda é:', moda)"
      ],
      "metadata": {
        "id": "8ywACTdNiu2E",
        "outputId": "3882e2a2-cb3c-4596-c754-5d84f4f7e20a",
        "colab": {
          "base_uri": "https://localhost:8080/"
        }
      },
      "execution_count": 207,
      "outputs": [
        {
          "output_type": "stream",
          "name": "stdout",
          "text": [
            "A média é: 1.1030526315789473\n",
            "A mediana é: 0.19\n",
            "A moda é: 0    0.0\n",
            "Name: Display Value, dtype: float64\n"
          ]
        }
      ]
    },
    {
      "cell_type": "code",
      "source": [
        "#Exercício 1.e)\n",
        "#  Mostre resultados de acordo com alguns critérios: \n",
        "# i. Mostrar a coluna de bebidas do ano de 1985.\n",
        "\n",
        "#i\n",
        "filtro = dados[dados['Year'] == 1985]\n",
        "filtro_bebidas = filtro['Beverage Types']\n",
        "filtro_bebidas\n"
      ],
      "metadata": {
        "id": "dfaKYAjyk_XK",
        "outputId": "8ecdc2d1-4089-4524-e1fa-3e024d5302b0",
        "colab": {
          "base_uri": "https://localhost:8080/"
        }
      },
      "execution_count": 220,
      "outputs": [
        {
          "output_type": "execute_result",
          "data": {
            "text/plain": [
              "2        Wine\n",
              "7     Spirits\n",
              "12       Beer\n",
              "14    Spirits\n",
              "24      Other\n",
              "26       Wine\n",
              "33      Other\n",
              "35    Spirits\n",
              "44      Other\n",
              "50      Other\n",
              "63      Other\n",
              "71      Other\n",
              "76       Beer\n",
              "77    Spirits\n",
              "80      Other\n",
              "81       Wine\n",
              "85       Wine\n",
              "94    Spirits\n",
              "96       Wine\n",
              "99       Wine\n",
              "Name: Beverage Types, dtype: object"
            ]
          },
          "metadata": {},
          "execution_count": 220
        }
      ]
    },
    {
      "cell_type": "code",
      "source": [
        "#Exercício 1.e)\n",
        "#  Mostre resultados de acordo com alguns critérios: \n",
        "# ii. Mostrar a coluna de Região com valores acima de 4.\n",
        "\n",
        "import pandas as pd\n",
        "\n",
        "dados = pd.read_csv('world_alcohol.csv', sep=',')\n",
        "\n",
        "filtro = dados[dados['Display Value'] > 4]\n",
        "filtro\n",
        "filtro_regiao = filtro['WHO region']\n",
        "filtro_regiao\n",
        "\n",
        "\n"
      ],
      "metadata": {
        "id": "lBLcq_7snwmT",
        "outputId": "ccbe2f55-1e71-4f1e-e387-acd72dcc385c",
        "colab": {
          "base_uri": "https://localhost:8080/"
        }
      },
      "execution_count": 231,
      "outputs": [
        {
          "output_type": "execute_result",
          "data": {
            "text/plain": [
              "3     Americas\n",
              "9       Africa\n",
              "21    Americas\n",
              "30      Africa\n",
              "41      Europe\n",
              "57      Europe\n",
              "91      Europe\n",
              "96      Europe\n",
              "Name: WHO region, dtype: object"
            ]
          },
          "metadata": {},
          "execution_count": 231
        }
      ]
    },
    {
      "cell_type": "code",
      "source": [],
      "metadata": {
        "id": "ryrFE5DBp0Ae"
      },
      "execution_count": null,
      "outputs": []
    }
  ]
}